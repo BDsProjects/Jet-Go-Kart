{
 "cells": [
  {
   "cell_type": "markdown",
   "metadata": {},
   "source": [
    "<h1>JetCat P300-Pro Stock Cycle Analysis<h1>"
   ]
  },
  {
   "cell_type": "markdown",
   "metadata": {},
   "source": [
    "Package Import"
   ]
  },
  {
   "cell_type": "code",
   "execution_count": 1,
   "metadata": {},
   "outputs": [],
   "source": [
    "import math as m\n",
    "import numpy as np\n",
    "import pandas as pd\n"
   ]
  },
  {
   "cell_type": "markdown",
   "metadata": {},
   "source": [
    "<h2>Metric Calculations<h2>"
   ]
  },
  {
   "cell_type": "markdown",
   "metadata": {},
   "source": [
    "<h3>Metric Characteristics<h3>"
   ]
  },
  {
   "cell_type": "code",
   "execution_count": 2,
   "metadata": {},
   "outputs": [],
   "source": [
    "pressure_ratio = 3.55\n",
    "mdot_stock = 0.5\n",
    "stock_max_fuel_consumption_m = .980 # L/min\n",
    "stock_max_fuel_consumption_s = stock_max_fuel_consumption_m/60 # L/s\n",
    "stock_idle_fuel_consumption_m = 0.179 # L/min\n",
    "stock_idle_fuel_consumption_s = stock_idle_fuel_consumption_m/60 # L/s\n",
    "engine_mass = 2.730 # kg\n",
    "min_exhaust_gas_temp = 480+273.15 # K\n",
    "max_exhaust_gas_temp = 750+273.15 # K\n",
    "idle_rpm = 35000 # (1/min)\n",
    "max_rpm = 105000 # (1/min)\n",
    "idle_thrust = 14 #N\n",
    "max_stock_thrust = 300 #N\n",
    "max_reported_exhaust_gas_velocity = (2160 * (1/3600) * 1000) # m/s\n",
    "exhaust_gas_power_output = (90 * 1000)\n",
    "max_sfc = 0.157 # (kg/Nh)\n",
    "\n",
    "# https://www.jetcat.de/en/productdetails/produkte/jetcat/produkte/Professionell/p300%20pro"
   ]
  },
  {
   "cell_type": "markdown",
   "metadata": {},
   "source": [
    "<h3>Metric Dimensions<h3>"
   ]
  },
  {
   "cell_type": "code",
   "execution_count": 8,
   "metadata": {},
   "outputs": [],
   "source": [
    "starter_to_nozz_exit_length = .381\n",
    "entrance_to_nozz_exit_length = starter_to_nozz_exit_length-.080\n",
    "casing_width = .132\n",
    "casing_width_with_mounts = .188\n",
    "\n",
    "# nozzle\n",
    "turbine_exit_outer_diameter = .091\n",
    "nozzle_length = .104\n",
    "\n",
    "# Entrance - Estimated\n",
    "entrance_ID = .120 #m\n",
    "entrance_A = (m.pi*((entrance_ID/2)**2))\n",
    "\n"
   ]
  },
  {
   "cell_type": "markdown",
   "metadata": {},
   "source": [
    "<h4>Ambient Conditions<h4>"
   ]
  },
  {
   "cell_type": "code",
   "execution_count": 6,
   "metadata": {},
   "outputs": [],
   "source": [
    "Pa = 101325 # Pa\n",
    "Ta = 298 # K\n",
    "rho_a = 1.225 # kg/m^3\n",
    "\n"
   ]
  },
  {
   "cell_type": "markdown",
   "metadata": {},
   "source": [
    "<h4>Inlet to Compressor<h4>"
   ]
  },
  {
   "cell_type": "code",
   "execution_count": 9,
   "metadata": {},
   "outputs": [],
   "source": [
    "# Conservation of mass \n",
    "u2 = mdot_stock/(rho_a*entrance_A)\n",
    "Po2 = Pa * pressure_ratio"
   ]
  }
 ],
 "metadata": {
  "kernelspec": {
   "display_name": "base",
   "language": "python",
   "name": "python3"
  },
  "language_info": {
   "codemirror_mode": {
    "name": "ipython",
    "version": 3
   },
   "file_extension": ".py",
   "mimetype": "text/x-python",
   "name": "python",
   "nbconvert_exporter": "python",
   "pygments_lexer": "ipython3",
   "version": "3.12.3"
  }
 },
 "nbformat": 4,
 "nbformat_minor": 2
}
